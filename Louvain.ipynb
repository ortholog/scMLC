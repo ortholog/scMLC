{
 "cells": [
  {
   "cell_type": "code",
   "execution_count": 106,
   "id": "2e087fd4",
   "metadata": {
    "scrolled": true
   },
   "outputs": [],
   "source": [
    "import networkx as nx\n",
    "import random as rd\n",
    "import math\n",
    "import pandas as pd\n",
    "from community_louvain import *\n",
    "import operator\n",
    "import metrics\n",
    "import umap\n",
    "import numpy as np"
   ]
  },
  {
   "cell_type": "code",
   "execution_count": 107,
   "id": "caae1ad5",
   "metadata": {},
   "outputs": [],
   "source": [
    "# cell_weight_df = pd.read_csv('sci_CAR_cell_weight.csv',sep=',',header=0)\n",
    "# cell_weight_df = pd.read_csv('P0_cell_weight.csv',sep=',',header=0)\n",
    "# cell_weight_df = pd.read_csv('LLL_CTRL_cell_weight.csv',sep=',',header=0)\n",
    "# cell_weight_df = pd.read_csv('Paired_cell_weight.csv',sep=',',header=0)\n",
    "# cell_weight_df = pd.read_csv('celllinemixture_cell_weight.csv',sep=',',header=0)\n",
    "# cell_weight_df = pd.read_csv('PBMC10_cell_weight.csv',sep=',',header=0)\n",
    "# cell_weight_df = pd.read_csv('NEAT_seq_MIX_cell_weight.csv',sep=',',header=0)\n",
    "cell_weight_df = pd.read_csv('lymph_cell_weight.csv',sep=',',header=0)\n",
    "# cell_weight_df = pd.read_csv('NEAT_seq_CD4T_cell_weight.csv',sep=',',header=0)\n",
    "# cell_weight_df = pd.read_csv('Ad_cell_weight.csv',sep=',',header=0)\n",
    "# cell_weight_df = pd.read_csv('PBMC3_cell_weight.csv',sep=',',header=0)\n",
    "cell_weight_df.columns = ['Cell','Weight']"
   ]
  },
  {
   "cell_type": "code",
   "execution_count": 108,
   "id": "4470f131",
   "metadata": {
    "scrolled": true
   },
   "outputs": [
    {
     "data": {
      "text/plain": [
       "7058"
      ]
     },
     "execution_count": 108,
     "metadata": {},
     "output_type": "execute_result"
    }
   ],
   "source": [
    "# cell_weight_df.sort_values(\"Weight\",inplace=True, ascending=True)\n",
    "cell_weight_df.sort_values(\"Weight\",inplace=True, ascending=False)\n",
    "Cell_sort = cell_weight_df['Cell'].tolist()\n",
    "len(Cell_sort)"
   ]
  },
  {
   "cell_type": "code",
   "execution_count": 109,
   "id": "320bb060",
   "metadata": {},
   "outputs": [],
   "source": [
    "def load_multilayer_network(input_file):\n",
    "    layer_data = {}#key为0，1对应的value是边\n",
    "    nodes_lst = []#存的是全部的node\n",
    "    nodes = {}#字典 将细胞的名字对应为数字\n",
    "    cnt=0\n",
    "    with open(input_file, 'r') as _file:\n",
    "        for line in _file:\n",
    "            cnt = cnt + 1\n",
    "            line = line.strip()\n",
    "            data = [x.strip() for x in line.split('\\t')]\n",
    "            nodes_lst.append(data[0])\n",
    "            nodes_lst.append(data[1])\n",
    "    _file.close()\n",
    "\n",
    "#     print('type(nodes_lst) :',type(nodes_lst))\n",
    "    nodes_lst = list(set(nodes_lst))\n",
    "#     print('type(nodes_lst) :',type(nodes_lst))\n",
    "    for i in range(len(nodes_lst)):\n",
    "        nodes[nodes_lst[i]] = i\n",
    "    \n",
    "    with open(input_file, 'r') as _file:\n",
    "        for line in _file:\n",
    "            line = line.strip()\n",
    "            data = [x.strip() for x in line.split('\\t')]\n",
    "            if int(float(data[3])) not in layer_data.keys():\n",
    "                layer_data[int(float(data[3]))] = []\n",
    "    \n",
    "            layer_data[int(float(data[3]))].append((nodes[data[0]], nodes[data[1]],float(data[2])))        \n",
    "    _file.close()\n",
    "    \n",
    "#     print(nodes)\n",
    "#     print(layer_data)\n",
    "    return nodes, layer_data"
   ]
  },
  {
   "cell_type": "code",
   "execution_count": 110,
   "id": "cdc2f9aa",
   "metadata": {},
   "outputs": [],
   "source": [
    "def make_multilayer(layer_data, node_lst):\n",
    "    multilayer_network = {} #字典\n",
    "#     import pdb\n",
    "#     pdb.set_trace()\n",
    "    for i in layer_data.keys():\n",
    "            multilayer_network[i] = nx.Graph()\n",
    "            for edge in layer_data[i]:\n",
    "                #print('edge :',edge)\n",
    "                multilayer_network[i].add_weighted_edges_from([(edge[0], edge[1],edge[2])])\n",
    "                #print('type(edge[2]):',type(edge[2]))\n",
    "            multilayer_network[i].add_nodes_from(node_lst)\n",
    "    return multilayer_network\n",
    "\n",
    "\n",
    "# second_layer=pd.read_csv('PY_sci_CAR_rna_layer.csv' ,header=0,index_col=0,sep=',')\n",
    "# second_layer=pd.read_csv('PY_An_Ultra_Paired_rna_layer.csv' ,header=0,index_col=0,sep=',')\n",
    "# second_layer=pd.read_csv('PY_cellmixture_SNARE_rna_layer.csv' ,header=0,index_col=0,sep=',')\n",
    "# second_layer=pd.read_csv('PY_P0_rna_layer.csv' ,header=0,index_col=0,sep=',')\n",
    "# second_layer=pd.read_csv('PY_NEAT_seq_MIX_rna_layer.csv' ,header=0,index_col=0,sep=',')\n",
    "# second_layer=pd.read_csv('PY_PBMC10_scMVP_rna_layer.csv' ,header=0,index_col=0,sep=',')\n",
    "second_layer=pd.read_csv('PY_lymph_rna_layer.csv' ,header=0,index_col=0,sep=',')\n",
    "# second_layer=pd.read_csv('PY_Ad_rna_layer.csv' ,header=0,index_col=0,sep=',')\n",
    "# second_layer=pd.read_csv('PY_PBMC3_rna_layer.csv' ,header=0,index_col=0,sep=',')\n",
    "# second_layer=pd.read_csv('PY_LLL_CTRL_rna_layer.csv' ,header=0,index_col=0,sep=',')\n",
    "\n",
    "# second_layer=pd.read_csv('PY_NEAT_seq_CD4T_rna_layer.csv' ,header=0,index_col=0,sep=',')\n",
    "df_triple=second_layer.stack().reset_index()\n",
    "df_triple.columns = ['U','V','Value']\n",
    "df_triple_clear=df_triple[df_triple.Value!=0]\n",
    "df_triple_clear_Final=df_triple_clear[df_triple_clear['U']!=df_triple_clear['V']]\n",
    "df_triple_clear_Final['Layer']= [1 for index in range(len(df_triple_clear_Final))]\n",
    "\n",
    "# df01_1=pd.read_csv('PY_Ad_RNA_SGCCA_layer.csv',header=0,index_col=0,sep=',')\n",
    "# df01_2=pd.read_csv('PY_Ad_ATAC_SGCCA_layer.csv',header=0,index_col=0,sep=',')\n",
    "# df01_1=pd.read_csv('PY_An_Ultra_Paired_RNA_SGCCA_layer.csv',header=0,index_col=0,sep=',')\n",
    "# df01_2=pd.read_csv('PY_An_Ultra_Paired_ATAC_SGCCA_layer.csv',header=0,index_col=0,sep=',')\n",
    "df01_1=pd.read_csv('PY_lymph_RNA_SGCCA_layer.csv',header=0,index_col=0,sep=',')\n",
    "df01_2=pd.read_csv('PY_lymph_ATAC_SGCCA_layer.csv',header=0,index_col=0,sep=',')\n",
    "# df01_1=pd.read_csv('PY_sci_CAR_RNA_SGCCA_layer.csv',header=0,index_col=0,sep=',')\n",
    "# df01_2=pd.read_csv('PY_sci_CAR_ATAC_SGCCA_layer.csv',header=0,index_col=0,sep=',')\n",
    "# df01_1=pd.read_csv('PY_cellmixture_SNARE_RNA_SGCCA_layer.csv',header=0,index_col=0,sep=',')\n",
    "# df01_2=pd.read_csv('PY_cellmixture_SNARE_ATAC_SGCCA_layer.csv',header=0,index_col=0,sep=',')\n",
    "# df01_1=pd.read_csv('PY_P0_RNA_SGCCA_layer.csv',header=0,index_col=0,sep=',')\n",
    "# df01_2=pd.read_csv('PY_P0_ATAC_SGCCA_layer.csv',header=0,index_col=0,sep=',')\n",
    "# df01_1=pd.read_csv('PY_PBMC10_scMVP_RNA_SGCCA_layer.csv',header=0,index_col=0,sep=',')\n",
    "# df01_2=pd.read_csv('PY_PBMC10_scMVP_ATAC_SGCCA_layer.csv',header=0,index_col=0,sep=',')\n",
    "# df01_1=pd.read_csv('PY_NEAT_seq_MIX_RNA_SGCCA_layer.csv',header=0,index_col=0,sep=',')\n",
    "# df01_2=pd.read_csv('PY_NEAT_seq_MIX_ATAC_SGCCA_layer.csv',header=0,index_col=0,sep=',')\n",
    "# df01_3=pd.read_csv('PY_NEAT_seq_MIX_ADT_SGCCA_layer.csv',header=0,index_col=0,sep=',')\n",
    "# df01_1=pd.read_csv('PY_NEAT_seq_CD4T_RNA_SGCCA_layer.csv',header=0,index_col=0,sep=',')\n",
    "# df01_2=pd.read_csv('PY_NEAT_seq_CD4T_ATAC_SGCCA_layer.csv',header=0,index_col=0,sep=',')\n",
    "# df01_3=pd.read_csv('PY_NEAT_seq_CD4T_ADT_SGCCA_layer.csv',header=0,index_col=0,sep=',')\n",
    "# df01_1=pd.read_csv('PY_PBMC3_RNA_SGCCA_layer.csv',header=0,index_col=0,sep=',')\n",
    "# df01_2=pd.read_csv('PY_PBMC3_ATAC_SGCCA_layer.csv',header=0,index_col=0,sep=',')\n",
    "# df01_1=pd.read_csv('PY_LLL_CTRL_RNA_SGCCA_layer.csv',header=0,index_col=0,sep=',')\n",
    "# df01_2=pd.read_csv('PY_LLL_CTRL_ATAC_SGCCA_layer.csv',header=0,index_col=0,sep=',')\n",
    "#\n",
    "\n",
    "first_layer=df01_1+df01_2\n",
    "# first_layer=df01_1+df01_2+df01_3\n",
    "df01_triple=first_layer.stack().reset_index()\n",
    "df01_triple.columns = ['U','V','Value']\n",
    "df01_triple_clear=df01_triple[df01_triple.Value!=0]\n",
    "df01_triple_clear_Final=df01_triple_clear[df01_triple_clear['U']!=df01_triple_clear['V']]\n",
    "df01_triple_clear_Final['Layer']= [0 for index in range(len(df01_triple_clear_Final))]\n",
    "df01_triple_clear_Final['Value']=df01_triple_clear_Final['Value'].map(lambda x : 1)\n",
    "\n",
    "# third_layer=pd.read_csv('PY_sci_CAR_atac_layer.csv',header=0,index_col=0,sep=',')\n",
    "# third_layer=pd.read_csv('PY_An_Ultra_Paired_atac_layer.csv',header=0,index_col=0,sep=',')\n",
    "# third_layer=pd.read_csv('PY_cellmixture_SNARE_atac_layer.csv',header=0,index_col=0,sep=',')\n",
    "# third_layer=pd.read_csv('PY_P0_atac_layer.csv',header=0,index_col=0,sep=',')\n",
    "# third_layer=pd.read_csv('PY_PBMC10_scMVP_atac_layer.csv',header=0,index_col=0,sep=',')\n",
    "# third_layer=pd.read_csv('PY_NEAT_seq_MIX_atac_layer.csv',header=0,index_col=0,sep=',')\n",
    "third_layer=pd.read_csv('PY_lymph_atac_layer.csv',header=0,index_col=0,sep=',')\n",
    "# third_layer=pd.read_csv('PY_Ad_atac_layer.csv',header=0,index_col=0,sep=',')\n",
    "# third_layer=pd.read_csv('PY_PBMC3_atac_layer.csv',header=0,index_col=0,sep=',')\n",
    "# third_layer=pd.read_csv('PY_NEAT_seq_CD4T_atac_layer.csv',header=0,index_col=0,sep=',')\n",
    "# third_layer=pd.read_csv('PY_LLL_CTRL_atac_layer.csv',header=0,index_col=0,sep=',')\n",
    "df02_triple=third_layer.stack().reset_index()\n",
    "df02_triple.columns = ['U','V','Value']\n",
    "df02_triple_clear=df02_triple[df02_triple.Value!=0]\n",
    "df02_triple_clear_Final=df02_triple_clear[df02_triple_clear['U']!=df02_triple_clear['V']]\n",
    "df02_triple_clear_Final['Layer']= [2 for index in range(len(df02_triple_clear_Final))]\n",
    "df02_triple_clear_Final\n",
    "\n",
    "# fourth_layer=pd.read_csv('PY_LLL_CTRL_adt_layer.csv',header=0,index_col=0,sep=',')\n",
    "# fourth_layer=pd.read_csv('PY_NEAT_seq_MIX_adt_layer.csv',header=0,index_col=0,sep=',')\n",
    "# # # fourth_layer=pd.read_csv('PY_NEAT_seq_CD4T_adt_layer.csv',header=0,index_col=0,sep=',')\n",
    "# df03_triple=fourth_layer.stack().reset_index()\n",
    "# df03_triple.columns = ['U','V','Value']\n",
    "# df03_triple_clear=df03_triple[df03_triple.Value!=0]\n",
    "# df03_triple_clear_Final=df03_triple_clear[df03_triple_clear['U']!=df03_triple_clear['V']]\n",
    "# df03_triple_clear_Final['Layer']= [3 for index in range(len(df03_triple_clear_Final))]\n",
    "# df03_triple_clear_Final\n",
    "\n",
    "# # frames=[df01_triple_clear_Final]\n",
    "# frames=[df01_triple_clear_Final,df_triple_clear_Final,df02_triple_clear_Final,df03_triple_clear_Final]\n",
    "# RES=pd.concat(frames)\n",
    "# RES.to_csv('PY_NEAT_seq_MIX_Tri_no_w.tsv',sep='\\t',header=None,index=False)\n",
    "# RES.to_csv('PY_NEAT_seq_MIX_Tri_no_w.tsv',sep='\\t',header=None,index=False)\n",
    "# # RES.to_csv('PY_NEAT_seq_CD4T_Tri_no_w.tsv',sep='\\t',header=None,index=False)\n",
    "\n",
    "frames=[df01_triple_clear_Final,df_triple_clear_Final,df02_triple_clear_Final]\n",
    "RES=pd.concat(frames)\n",
    "# # RES.to_csv('PY_Ad_Tri_no_w.tsv',sep='\\t',header=None,index=False)\n",
    "# RES.to_csv('PY_NEAT_seq_MIX_Tri_no_w.tsv',sep='\\t',header=None,index=False)\n",
    "# # RES.to_csv('PY_NEAT_seq_CD4T_Tri_no_w.tsv',sep='\\t',header=None,index=False)\n",
    "# RES.to_csv('PY_PBMC10_scMVP_Tri_no_w.tsv',sep='\\t',header=None,index=False)\n",
    "# RES.to_csv('PY_sci_CAR_Tri_no_w.tsv',sep='\\t',header=None,index=False)\n",
    "# RES.to_csv('PY_An_Ultra_Paired_Tri_no_w.tsv',sep='\\t',header=None,index=False)\n",
    "# RES.to_csv('PY_cellmixture_SNARE_Tri_no_w.tsv',sep='\\t',header=None,index=False)\n",
    "# RES.to_csv('PY_P0_Tri_no_w.tsv',sep='\\t',header=None,index=False)\n",
    "RES.to_csv('PY_lymph_Tri_no_w.tsv',sep='\\t',header=None,index=False)\n",
    "# # RES.to_csv('PY_PBMC3_Tri_no_w.tsv',sep='\\t',header=None,index=False)\n",
    "# RES.to_csv('PY_LLL_CTRL_Four_no_w.tsv',sep='\\t',header=None,index=False)"
   ]
  },
  {
   "cell_type": "code",
   "execution_count": 114,
   "id": "9a92e0c1",
   "metadata": {},
   "outputs": [],
   "source": [
    "# nodes, layer_data = load_multilayer_network('PY_NEAT_seq_MIX_Tri_no_w.tsv')\n",
    "# nodes, layer_data = load_multilayer_network('PY_NEAT_seq_CD4T_Tri_no_w.tsv')\n",
    "# nodes, layer_data = load_multilayer_network('PY_cellmixture_SNARE_Tri_no_w.tsv')\n",
    "# nodes, layer_data = load_multilayer_network('PY_P0_Tri_no_w.tsv')\n",
    "# nodes, layer_data = load_multilayer_network('PY_LLL_CTRL_Four_no_w.tsv')\n",
    "# nodes, layer_data = load_multilayer_network('PY_An_Ultra_Paired_Tri_no_w.tsv')\n",
    "# nodes, layer_data = load_multilayer_network('PY_PBMC10_scMVP_Tri_no_w.tsv')\n",
    "nodes, layer_data = load_multilayer_network('PY_lymph_Tri_no_w.tsv')\n",
    "# nodes, layer_data = load_multilayer_network('PY_An_Ultra_Paired_rna_no_w.tsv')\n",
    "# nodes, layer_data = load_multilayer_network('PY_Ad_Tri_no_w.tsv')\n",
    "# nodes, layer_data = load_multilayer_network('PY_PBMC3_Tri_no_w.tsv')\n",
    "# nodes, layer_data = load_multilayer_network('PY_sci_CAR_Tri_no_w.tsv')\n",
    "nodes_lst = sorted(list(nodes.values()))"
   ]
  },
  {
   "cell_type": "code",
   "execution_count": 115,
   "id": "42213e5f",
   "metadata": {},
   "outputs": [
    {
     "data": {
      "text/plain": [
       "4"
      ]
     },
     "execution_count": 115,
     "metadata": {},
     "output_type": "execute_result"
    }
   ],
   "source": [
    "len(layer_data)"
   ]
  },
  {
   "cell_type": "code",
   "execution_count": 116,
   "id": "49074a8c",
   "metadata": {},
   "outputs": [
    {
     "data": {
      "text/plain": [
       "7058"
      ]
     },
     "execution_count": 116,
     "metadata": {},
     "output_type": "execute_result"
    }
   ],
   "source": [
    "len(nodes)"
   ]
  },
  {
   "cell_type": "code",
   "execution_count": 117,
   "id": "1dd556ef",
   "metadata": {
    "scrolled": false
   },
   "outputs": [],
   "source": [
    "Cell_Sort_Id=list()\n",
    "for i in range(len(Cell_sort)):\n",
    "    Cell_Sort_Id.append(nodes[Cell_sort[i]])"
   ]
  },
  {
   "cell_type": "code",
   "execution_count": 118,
   "id": "27429b9a",
   "metadata": {},
   "outputs": [],
   "source": [
    "cell_weight_df['ID']=Cell_Sort_Id"
   ]
  },
  {
   "cell_type": "code",
   "execution_count": 119,
   "id": "5eec4cb5",
   "metadata": {},
   "outputs": [],
   "source": [
    "Cell_Id_W_dict = dict(zip(cell_weight_df['ID'].tolist(),cell_weight_df['Weight'].tolist()))"
   ]
  },
  {
   "cell_type": "code",
   "execution_count": 120,
   "id": "8517d0f0",
   "metadata": {
    "scrolled": true
   },
   "outputs": [
    {
     "data": {
      "text/plain": [
       "7058"
      ]
     },
     "execution_count": 120,
     "metadata": {},
     "output_type": "execute_result"
    }
   ],
   "source": [
    "len(Cell_Id_W_dict)\n",
    "\n",
    "\n",
    "multilayer_network=make_multilayer(layer_data, nodes_lst) #multilayer_network是字典，对应的values是值"
   ]
  },
  {
   "cell_type": "code",
   "execution_count": 133,
   "id": "0328b8ba",
   "metadata": {
    "scrolled": true
   },
   "outputs": [
    {
     "name": "stdout",
     "output_type": "stream",
     "text": [
      "resolution : 2.85\n",
      "_one_level_first\n",
      "_one_level_second\n",
      "_one_level_second\n",
      "Community_Num : 6\n"
     ]
    }
   ],
   "source": [
    "partition = best_partition(multilayer_network,Cell_Id_W_dict,weight='weight',resolution=0.9)#3 0.433(P0)0.9 0.87(lymph) 0.508(PBMC10)\n",
    "community_num = len(set(partition.values()))\n",
    "print('Community_Num :',community_num)"
   ]
  },
  {
   "cell_type": "code",
   "execution_count": 134,
   "id": "ec3c0948",
   "metadata": {
    "scrolled": false
   },
   "outputs": [],
   "source": [
    "names = {}\n",
    "for n in nodes:\n",
    "#     print('n :',n)\n",
    "#     print('nodes[n] :',nodes[n])\n",
    "    names[nodes[n]] = n\n",
    "B=[]\n",
    "C=[]\n",
    "\n",
    "for j in partition.keys():\n",
    "        B.append(names[j])\n",
    "for k in partition.values():\n",
    "        C.append(k)\n",
    "Res=dict(zip(B, C))\n",
    "Res = dict(sorted(Res.items(), key=operator.itemgetter(0)))  #按照key值升序\n",
    "# print('Res :',Res)"
   ]
  },
  {
   "cell_type": "code",
   "execution_count": 94,
   "id": "ee96c644",
   "metadata": {},
   "outputs": [],
   "source": [
    "# Res\n",
    "# jsObj = json.dumps(Res)\n",
    " \n",
    "# # fileObject = open('lymph_C_Random.json', 'w')\n",
    "# fileObject = open('lymph_C.json', 'w')\n",
    "# fileObject.write(jsObj)\n",
    "# fileObject.close()"
   ]
  },
  {
   "cell_type": "code",
   "execution_count": 135,
   "id": "de77cc60",
   "metadata": {
    "scrolled": true
   },
   "outputs": [],
   "source": [
    "# label=pd.read_csv('celllinemixture_cluster_omit.csv',sep = ',',header=0)\n",
    "# label=pd.read_csv('An_Ultra_cluster_omit_Final_intersect_dc.csv',sep=',',header=0)\n",
    "# label=pd.read_csv('sci_CAR_cell_atac.tsv',sep='\\t',header=0)\n",
    "# label=pd.read_csv('HT_Ad_cluster.csv',sep = ',',header=0)\n",
    "# label=pd.read_csv('HT_P0_cluster.csv',sep = ',',header=0) \n",
    "# label=pd.read_csv('PBMC10_scMVP_cluster.csv',sep = ',',header=0)\n",
    "# label=pd.read_csv('NEAT_seq_MIX_cluster_new.csv',sep = ',',header=0)\n",
    "label=pd.read_csv('lymph_cluster.csv',sep = ',',header=0)\n",
    "# label=pd.read_csv('NEAT_seq_CD4_T_cluster.csv',sep = ',',header=0)\n",
    "# label=pd.read_csv('SNARE_cellline_cluster.csv',sep = ',',header=0)\n",
    "# label=pd.read_csv('PBMC3_cluster.csv',sep = ',',header=0)\n",
    "# label=pd.read_csv('NEAT_seq_MIX_cluster_Three.csv',sep = ',',header=0)\n",
    "# label=pd.read_csv('LLL_CTRL_cluster.csv',sep = ',',header=0)"
   ]
  },
  {
   "cell_type": "code",
   "execution_count": 24,
   "id": "3085148e",
   "metadata": {},
   "outputs": [],
   "source": [
    "# label_index=label.sort_values(by=\"cell_id\",inplace=False)\n",
    "# label_index\n",
    "# Y=np.array(label_index['cluster_id'])  \n",
    "# len(set(Y))"
   ]
  },
  {
   "cell_type": "code",
   "execution_count": 25,
   "id": "7dd6ba25",
   "metadata": {},
   "outputs": [],
   "source": [
    "# Y=np.array(label_index['cluster_id'])  \n",
    "# len(set(Y))"
   ]
  },
  {
   "cell_type": "code",
   "execution_count": 26,
   "id": "77e4933d",
   "metadata": {},
   "outputs": [],
   "source": [
    "# #An_Ultra\n",
    "# Y=np.array(label['Ident_ID'])\n",
    "# len(set(Y))"
   ]
  },
  {
   "cell_type": "code",
   "execution_count": 27,
   "id": "0f9884c8",
   "metadata": {
    "scrolled": true
   },
   "outputs": [],
   "source": [
    "# # # # # label_index=label.sort_index()  #HT_celllinemixture\n",
    "# Y=np.array(label['A_Type'])\n",
    "# # #ATAC_Y=np.array(label['A_Type'])\n",
    "# print('len(Y) :',len(set(Y)))"
   ]
  },
  {
   "cell_type": "code",
   "execution_count": 95,
   "id": "29465c2d",
   "metadata": {
    "scrolled": true
   },
   "outputs": [],
   "source": [
    "# Y=np.array(label['Ident'])  #P0 Ad\n",
    "# len(set(Y))"
   ]
  },
  {
   "cell_type": "code",
   "execution_count": 136,
   "id": "f0c51d29",
   "metadata": {},
   "outputs": [
    {
     "data": {
      "text/plain": [
       "{1, 2, 3, 4, 5, 6}"
      ]
     },
     "execution_count": 136,
     "metadata": {},
     "output_type": "execute_result"
    }
   ],
   "source": [
    "Y=np.array(label['cluster_id'])  #PBMC10_scMVP  lymph SHARE sci_CAR NEAT_seq_MIX\n",
    "len(set(Y))\n",
    "set(Y)"
   ]
  },
  {
   "cell_type": "code",
   "execution_count": 137,
   "id": "bc9854e3",
   "metadata": {
    "scrolled": true
   },
   "outputs": [
    {
     "name": "stdout",
     "output_type": "stream",
     "text": [
      "6\n",
      "NMI : 0.6817470193624116\n",
      "ARI : 0.5083303210672694\n",
      "FM : 0.7281046783409214\n"
     ]
    },
    {
     "data": {
      "text/plain": [
       "(0.6817470193624116, 0.5083303210672694, 0.7281046783409214)"
      ]
     },
     "execution_count": 137,
     "metadata": {},
     "output_type": "execute_result"
    }
   ],
   "source": [
    "Pre=[]\n",
    "for k in Res.values():\n",
    "        Pre.append(k)\n",
    "Pre=np.array(Pre)\n",
    "print(len(set(Pre)))\n",
    "metrics.clustering_evaluate(Y,Pre)\n"
   ]
  },
  {
   "cell_type": "markdown",
   "id": "fa0eb338",
   "metadata": {},
   "source": [
    "<!-- Pre_tmp.to_csv('PY_An_Ultra_Louvain_cluster_id_cosine_single.csv', index=False,sep=',')   -->"
   ]
  }
 ],
 "metadata": {
  "kernelspec": {
   "display_name": "Python [conda env:py3.7_R4]",
   "language": "python",
   "name": "conda-env-py3.7_R4-py"
  },
  "language_info": {
   "codemirror_mode": {
    "name": "ipython",
    "version": 3
   },
   "file_extension": ".py",
   "mimetype": "text/x-python",
   "name": "python",
   "nbconvert_exporter": "python",
   "pygments_lexer": "ipython3",
   "version": "3.7.11"
  }
 },
 "nbformat": 4,
 "nbformat_minor": 5
}